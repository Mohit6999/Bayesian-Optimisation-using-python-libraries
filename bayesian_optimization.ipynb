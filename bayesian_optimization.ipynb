{
  "cells": [
    {
      "cell_type": "markdown",
      "source": [
        "## Import libraries"
      ],
      "metadata": {
        "id": "gqqVqF3UdZiC"
      }
    },
    {
      "cell_type": "code",
      "source": [
        "import numpy as np\n",
        "import pandas as pd\n",
        "import matplotlib.pyplot as plt\n",
        "%matplotlib inline"
      ],
      "metadata": {
        "id": "-G8GpnMZdcM1"
      },
      "execution_count": null,
      "outputs": []
    },
    {
      "cell_type": "code",
      "source": [
        "np.random.seed(11)"
      ],
      "metadata": {
        "id": "uHur1TUIeQlB"
      },
      "execution_count": null,
      "outputs": []
    },
    {
      "cell_type": "markdown",
      "source": [
        "## Load Data"
      ],
      "metadata": {
        "id": "ZIiPoWwBSQ02"
      }
    },
    {
      "cell_type": "code",
      "source": [
        "data = pd.read_excel(\"/Total_exp.xlsx\")\n",
        "data = data.dropna()\n",
        "data = data[[\"Parameter\",\"Freq\"]]"
      ],
      "metadata": {
        "id": "kC5GhZKOSQb0",
        "colab": {
          "base_uri": "https://localhost:8080/",
          "height": 345
        },
        "outputId": "6a4f30b7-12c0-4ec0-b5bd-d44c79c33d28"
      },
      "execution_count": null,
      "outputs": [
        {
          "output_type": "error",
          "ename": "FileNotFoundError",
          "evalue": "ignored",
          "traceback": [
            "\u001b[0;31m---------------------------------------------------------------------------\u001b[0m",
            "\u001b[0;31mFileNotFoundError\u001b[0m                         Traceback (most recent call last)",
            "\u001b[0;32m<ipython-input-3-21df7ff7dd4d>\u001b[0m in \u001b[0;36m<cell line: 1>\u001b[0;34m()\u001b[0m\n\u001b[0;32m----> 1\u001b[0;31m \u001b[0mdata\u001b[0m \u001b[0;34m=\u001b[0m \u001b[0mpd\u001b[0m\u001b[0;34m.\u001b[0m\u001b[0mread_excel\u001b[0m\u001b[0;34m(\u001b[0m\u001b[0;34m\"/Total_exp.xlsx\"\u001b[0m\u001b[0;34m)\u001b[0m\u001b[0;34m\u001b[0m\u001b[0;34m\u001b[0m\u001b[0m\n\u001b[0m\u001b[1;32m      2\u001b[0m \u001b[0mdata\u001b[0m \u001b[0;34m=\u001b[0m \u001b[0mdata\u001b[0m\u001b[0;34m.\u001b[0m\u001b[0mdropna\u001b[0m\u001b[0;34m(\u001b[0m\u001b[0;34m)\u001b[0m\u001b[0;34m\u001b[0m\u001b[0;34m\u001b[0m\u001b[0m\n\u001b[1;32m      3\u001b[0m \u001b[0mdata\u001b[0m \u001b[0;34m=\u001b[0m \u001b[0mdata\u001b[0m\u001b[0;34m[\u001b[0m\u001b[0;34m[\u001b[0m\u001b[0;34m\"Parameter\"\u001b[0m\u001b[0;34m,\u001b[0m\u001b[0;34m\"Freq\"\u001b[0m\u001b[0;34m]\u001b[0m\u001b[0;34m]\u001b[0m\u001b[0;34m\u001b[0m\u001b[0;34m\u001b[0m\u001b[0m\n",
            "\u001b[0;32m/usr/local/lib/python3.9/dist-packages/pandas/util/_decorators.py\u001b[0m in \u001b[0;36mwrapper\u001b[0;34m(*args, **kwargs)\u001b[0m\n\u001b[1;32m    209\u001b[0m                 \u001b[0;32melse\u001b[0m\u001b[0;34m:\u001b[0m\u001b[0;34m\u001b[0m\u001b[0;34m\u001b[0m\u001b[0m\n\u001b[1;32m    210\u001b[0m                     \u001b[0mkwargs\u001b[0m\u001b[0;34m[\u001b[0m\u001b[0mnew_arg_name\u001b[0m\u001b[0;34m]\u001b[0m \u001b[0;34m=\u001b[0m \u001b[0mnew_arg_value\u001b[0m\u001b[0;34m\u001b[0m\u001b[0;34m\u001b[0m\u001b[0m\n\u001b[0;32m--> 211\u001b[0;31m             \u001b[0;32mreturn\u001b[0m \u001b[0mfunc\u001b[0m\u001b[0;34m(\u001b[0m\u001b[0;34m*\u001b[0m\u001b[0margs\u001b[0m\u001b[0;34m,\u001b[0m \u001b[0;34m**\u001b[0m\u001b[0mkwargs\u001b[0m\u001b[0;34m)\u001b[0m\u001b[0;34m\u001b[0m\u001b[0;34m\u001b[0m\u001b[0m\n\u001b[0m\u001b[1;32m    212\u001b[0m \u001b[0;34m\u001b[0m\u001b[0m\n\u001b[1;32m    213\u001b[0m         \u001b[0;32mreturn\u001b[0m \u001b[0mcast\u001b[0m\u001b[0;34m(\u001b[0m\u001b[0mF\u001b[0m\u001b[0;34m,\u001b[0m \u001b[0mwrapper\u001b[0m\u001b[0;34m)\u001b[0m\u001b[0;34m\u001b[0m\u001b[0;34m\u001b[0m\u001b[0m\n",
            "\u001b[0;32m/usr/local/lib/python3.9/dist-packages/pandas/util/_decorators.py\u001b[0m in \u001b[0;36mwrapper\u001b[0;34m(*args, **kwargs)\u001b[0m\n\u001b[1;32m    329\u001b[0m                     \u001b[0mstacklevel\u001b[0m\u001b[0;34m=\u001b[0m\u001b[0mfind_stack_level\u001b[0m\u001b[0;34m(\u001b[0m\u001b[0;34m)\u001b[0m\u001b[0;34m,\u001b[0m\u001b[0;34m\u001b[0m\u001b[0;34m\u001b[0m\u001b[0m\n\u001b[1;32m    330\u001b[0m                 )\n\u001b[0;32m--> 331\u001b[0;31m             \u001b[0;32mreturn\u001b[0m \u001b[0mfunc\u001b[0m\u001b[0;34m(\u001b[0m\u001b[0;34m*\u001b[0m\u001b[0margs\u001b[0m\u001b[0;34m,\u001b[0m \u001b[0;34m**\u001b[0m\u001b[0mkwargs\u001b[0m\u001b[0;34m)\u001b[0m\u001b[0;34m\u001b[0m\u001b[0;34m\u001b[0m\u001b[0m\n\u001b[0m\u001b[1;32m    332\u001b[0m \u001b[0;34m\u001b[0m\u001b[0m\n\u001b[1;32m    333\u001b[0m         \u001b[0;31m# error: \"Callable[[VarArg(Any), KwArg(Any)], Any]\" has no\u001b[0m\u001b[0;34m\u001b[0m\u001b[0;34m\u001b[0m\u001b[0m\n",
            "\u001b[0;32m/usr/local/lib/python3.9/dist-packages/pandas/io/excel/_base.py\u001b[0m in \u001b[0;36mread_excel\u001b[0;34m(io, sheet_name, header, names, index_col, usecols, squeeze, dtype, engine, converters, true_values, false_values, skiprows, nrows, na_values, keep_default_na, na_filter, verbose, parse_dates, date_parser, thousands, decimal, comment, skipfooter, convert_float, mangle_dupe_cols, storage_options)\u001b[0m\n\u001b[1;32m    480\u001b[0m     \u001b[0;32mif\u001b[0m \u001b[0;32mnot\u001b[0m \u001b[0misinstance\u001b[0m\u001b[0;34m(\u001b[0m\u001b[0mio\u001b[0m\u001b[0;34m,\u001b[0m \u001b[0mExcelFile\u001b[0m\u001b[0;34m)\u001b[0m\u001b[0;34m:\u001b[0m\u001b[0;34m\u001b[0m\u001b[0;34m\u001b[0m\u001b[0m\n\u001b[1;32m    481\u001b[0m         \u001b[0mshould_close\u001b[0m \u001b[0;34m=\u001b[0m \u001b[0;32mTrue\u001b[0m\u001b[0;34m\u001b[0m\u001b[0;34m\u001b[0m\u001b[0m\n\u001b[0;32m--> 482\u001b[0;31m         \u001b[0mio\u001b[0m \u001b[0;34m=\u001b[0m \u001b[0mExcelFile\u001b[0m\u001b[0;34m(\u001b[0m\u001b[0mio\u001b[0m\u001b[0;34m,\u001b[0m \u001b[0mstorage_options\u001b[0m\u001b[0;34m=\u001b[0m\u001b[0mstorage_options\u001b[0m\u001b[0;34m,\u001b[0m \u001b[0mengine\u001b[0m\u001b[0;34m=\u001b[0m\u001b[0mengine\u001b[0m\u001b[0;34m)\u001b[0m\u001b[0;34m\u001b[0m\u001b[0;34m\u001b[0m\u001b[0m\n\u001b[0m\u001b[1;32m    483\u001b[0m     \u001b[0;32melif\u001b[0m \u001b[0mengine\u001b[0m \u001b[0;32mand\u001b[0m \u001b[0mengine\u001b[0m \u001b[0;34m!=\u001b[0m \u001b[0mio\u001b[0m\u001b[0;34m.\u001b[0m\u001b[0mengine\u001b[0m\u001b[0;34m:\u001b[0m\u001b[0;34m\u001b[0m\u001b[0;34m\u001b[0m\u001b[0m\n\u001b[1;32m    484\u001b[0m         raise ValueError(\n",
            "\u001b[0;32m/usr/local/lib/python3.9/dist-packages/pandas/io/excel/_base.py\u001b[0m in \u001b[0;36m__init__\u001b[0;34m(self, path_or_buffer, engine, storage_options)\u001b[0m\n\u001b[1;32m   1650\u001b[0m                 \u001b[0mext\u001b[0m \u001b[0;34m=\u001b[0m \u001b[0;34m\"xls\"\u001b[0m\u001b[0;34m\u001b[0m\u001b[0;34m\u001b[0m\u001b[0m\n\u001b[1;32m   1651\u001b[0m             \u001b[0;32melse\u001b[0m\u001b[0;34m:\u001b[0m\u001b[0;34m\u001b[0m\u001b[0;34m\u001b[0m\u001b[0m\n\u001b[0;32m-> 1652\u001b[0;31m                 ext = inspect_excel_format(\n\u001b[0m\u001b[1;32m   1653\u001b[0m                     \u001b[0mcontent_or_path\u001b[0m\u001b[0;34m=\u001b[0m\u001b[0mpath_or_buffer\u001b[0m\u001b[0;34m,\u001b[0m \u001b[0mstorage_options\u001b[0m\u001b[0;34m=\u001b[0m\u001b[0mstorage_options\u001b[0m\u001b[0;34m\u001b[0m\u001b[0;34m\u001b[0m\u001b[0m\n\u001b[1;32m   1654\u001b[0m                 )\n",
            "\u001b[0;32m/usr/local/lib/python3.9/dist-packages/pandas/io/excel/_base.py\u001b[0m in \u001b[0;36minspect_excel_format\u001b[0;34m(content_or_path, storage_options)\u001b[0m\n\u001b[1;32m   1523\u001b[0m         \u001b[0mcontent_or_path\u001b[0m \u001b[0;34m=\u001b[0m \u001b[0mBytesIO\u001b[0m\u001b[0;34m(\u001b[0m\u001b[0mcontent_or_path\u001b[0m\u001b[0;34m)\u001b[0m\u001b[0;34m\u001b[0m\u001b[0;34m\u001b[0m\u001b[0m\n\u001b[1;32m   1524\u001b[0m \u001b[0;34m\u001b[0m\u001b[0m\n\u001b[0;32m-> 1525\u001b[0;31m     with get_handle(\n\u001b[0m\u001b[1;32m   1526\u001b[0m         \u001b[0mcontent_or_path\u001b[0m\u001b[0;34m,\u001b[0m \u001b[0;34m\"rb\"\u001b[0m\u001b[0;34m,\u001b[0m \u001b[0mstorage_options\u001b[0m\u001b[0;34m=\u001b[0m\u001b[0mstorage_options\u001b[0m\u001b[0;34m,\u001b[0m \u001b[0mis_text\u001b[0m\u001b[0;34m=\u001b[0m\u001b[0;32mFalse\u001b[0m\u001b[0;34m\u001b[0m\u001b[0;34m\u001b[0m\u001b[0m\n\u001b[1;32m   1527\u001b[0m     ) as handle:\n",
            "\u001b[0;32m/usr/local/lib/python3.9/dist-packages/pandas/io/common.py\u001b[0m in \u001b[0;36mget_handle\u001b[0;34m(path_or_buf, mode, encoding, compression, memory_map, is_text, errors, storage_options)\u001b[0m\n\u001b[1;32m    863\u001b[0m         \u001b[0;32melse\u001b[0m\u001b[0;34m:\u001b[0m\u001b[0;34m\u001b[0m\u001b[0;34m\u001b[0m\u001b[0m\n\u001b[1;32m    864\u001b[0m             \u001b[0;31m# Binary mode\u001b[0m\u001b[0;34m\u001b[0m\u001b[0;34m\u001b[0m\u001b[0m\n\u001b[0;32m--> 865\u001b[0;31m             \u001b[0mhandle\u001b[0m \u001b[0;34m=\u001b[0m \u001b[0mopen\u001b[0m\u001b[0;34m(\u001b[0m\u001b[0mhandle\u001b[0m\u001b[0;34m,\u001b[0m \u001b[0mioargs\u001b[0m\u001b[0;34m.\u001b[0m\u001b[0mmode\u001b[0m\u001b[0;34m)\u001b[0m\u001b[0;34m\u001b[0m\u001b[0;34m\u001b[0m\u001b[0m\n\u001b[0m\u001b[1;32m    866\u001b[0m         \u001b[0mhandles\u001b[0m\u001b[0;34m.\u001b[0m\u001b[0mappend\u001b[0m\u001b[0;34m(\u001b[0m\u001b[0mhandle\u001b[0m\u001b[0;34m)\u001b[0m\u001b[0;34m\u001b[0m\u001b[0;34m\u001b[0m\u001b[0m\n\u001b[1;32m    867\u001b[0m \u001b[0;34m\u001b[0m\u001b[0m\n",
            "\u001b[0;31mFileNotFoundError\u001b[0m: [Errno 2] No such file or directory: '/Total_exp.xlsx'"
          ]
        }
      ]
    },
    {
      "cell_type": "code",
      "source": [
        "data.head()"
      ],
      "metadata": {
        "id": "8TT3gIAbaNmn"
      },
      "execution_count": null,
      "outputs": []
    },
    {
      "cell_type": "markdown",
      "source": [
        "## Storing stack values & frequency"
      ],
      "metadata": {
        "id": "ZJ-m6arGUO55"
      }
    },
    {
      "cell_type": "code",
      "source": [
        "X_raw = [s.split(\"_\") for s in list(data[\"Parameter\"])]\n",
        "Y_raw = list(data[\"Freq\"])"
      ],
      "metadata": {
        "id": "XEBVWDaSUVfz"
      },
      "execution_count": null,
      "outputs": []
    },
    {
      "cell_type": "markdown",
      "source": [
        "## Map stack to a value for plotting purposes"
      ],
      "metadata": {
        "id": "oG7wTaqkZ45f"
      }
    },
    {
      "cell_type": "code",
      "source": [
        "def transform(X):\n",
        "    X = X.reshape(-1,6)\n",
        "    vals = []\n",
        "    for i in range(X.shape[0]):\n",
        "      val = 0.0\n",
        "      for j,x in enumerate(list(X[i])[::-1]):\n",
        "          val += 4**j * (x/50)\n",
        "      vals.append([val])\n",
        "    return np.array(vals)/1000"
      ],
      "metadata": {
        "id": "LJfLkMPaZcmb"
      },
      "execution_count": null,
      "outputs": []
    },
    {
      "cell_type": "markdown",
      "source": [
        "## Store all available samples"
      ],
      "metadata": {
        "id": "Mi_vRveFcXFb"
      }
    },
    {
      "cell_type": "code",
      "execution_count": null,
      "metadata": {
        "id": "vWHP0jyNUn9W"
      },
      "outputs": [],
      "source": [
        "bounds = np.array([[0, 150],\n",
        "                   [0, 150],\n",
        "                   [0, 150],\n",
        "                   [0, 150],\n",
        "                   [0, 150],\n",
        "                   [0, 150]])\n",
        "\n",
        "X = np.array(X_raw,dtype=\"float\")\n",
        "Y = np.array(Y_raw,dtype=\"float\")"
      ]
    },
    {
      "cell_type": "markdown",
      "source": [
        "## Initial datapoints"
      ],
      "metadata": {
        "id": "qS2IsMygcJMc"
      }
    },
    {
      "cell_type": "code",
      "source": [
        "n_sample = 2\n",
        "idxs = np.random.randint(0,X.shape[0],n_sample)\n",
        "\n",
        "X_init = np.array([X[i] for i in idxs])\n",
        "Y_init = np.array([[Y[i]] for i in idxs])"
      ],
      "metadata": {
        "id": "_Wx7ynPHcfHP"
      },
      "execution_count": null,
      "outputs": []
    },
    {
      "cell_type": "code",
      "source": [
        "from scipy.stats import norm\n",
        "\n",
        "def expected_improvement(X, X_sample, Y_sample, gpr, xi=0.01):\n",
        "    '''\n",
        "    Computes the EI at points X based on existing samples X_sample\n",
        "    and Y_sample using a Gaussian process surrogate model.\n",
        "\n",
        "    Args:\n",
        "        X: Points at which EI shall be computed (m x d).\n",
        "        X_sample: Sample locations (n x d).\n",
        "        Y_sample: Sample values (n x 1).\n",
        "        gpr: A GaussianProcessRegressor fitted to samples.\n",
        "        xi: Exploitation-exploration trade-off parameter.\n",
        "\n",
        "    Returns:\n",
        "        Expected improvements at points X.\n",
        "    '''\n",
        "    mu, sigma = gpr.predict(X, return_std=True)\n",
        "    mu_sample = gpr.predict(X_sample)\n",
        "\n",
        "    sigma = sigma.reshape(-1, 1)\n",
        "\n",
        "    # Needed for noise-based model,\n",
        "    # otherwise use np.max(Y_sample).\n",
        "    # See also section 2.4 in [...]\n",
        "    mu_sample_opt = np.max(mu_sample)\n",
        "\n",
        "    with np.errstate(divide='warn'):\n",
        "        imp = mu - mu_sample_opt - xi\n",
        "        Z = imp / sigma\n",
        "        ei = imp * norm.cdf(Z) + sigma * norm.pdf(Z)\n",
        "        ei[sigma == 0.0] = 0.0\n",
        "\n",
        "    return ei"
      ],
      "metadata": {
        "id": "ZAYzoJ5jeG3S"
      },
      "execution_count": null,
      "outputs": []
    },
    {
      "cell_type": "code",
      "source": [
        "from scipy.optimize import minimize\n",
        "\n",
        "def propose_location(acquisition, X_sample, Y_sample, gpr, bounds, n_restarts=25):\n",
        "    '''\n",
        "    Proposes the next sampling point by optimizing the acquisition function.\n",
        "\n",
        "    Args:\n",
        "        acquisition: Acquisition function.\n",
        "        X_sample: Sample locations (n x d).\n",
        "        Y_sample: Sample values (n x 1).\n",
        "        gpr: A GaussianProcessRegressor fitted to samples.\n",
        "\n",
        "    Returns:\n",
        "        Location of the acquisition function maximum.\n",
        "    '''\n",
        "    dim = X_sample.shape[1]\n",
        "    min_val = 1\n",
        "    min_x = None\n",
        "\n",
        "    def min_obj(X):\n",
        "        # Minimization objective is the negative acquisition function\n",
        "        return -acquisition(X.reshape(-1, dim), X_sample, Y_sample, gpr)\n",
        "\n",
        "    # Find the best optimum by starting from n_restart different random points.\n",
        "    for x0 in np.random.uniform(bounds[:, 0], bounds[:, 1], size=(n_restarts, dim)):\n",
        "        res = minimize(min_obj, x0=x0, bounds=bounds, method='L-BFGS-B')\n",
        "        if res.fun < min_val:\n",
        "            min_val = res.fun[0]\n",
        "            min_x = res.x\n",
        "\n",
        "    return min_x.reshape(-1, 1)"
      ],
      "metadata": {
        "id": "avTzwMcxeRc1"
      },
      "execution_count": null,
      "outputs": []
    },
    {
      "cell_type": "code",
      "source": [
        "def get_closest_stack(X,Y,X_estimate):\n",
        "    idx = -1\n",
        "    min_dist = 1e20\n",
        "    for i in range(X.shape[0]):\n",
        "        dist = np.sum(np.abs(X_estimate-X[i]))\n",
        "        if dist < min_dist :\n",
        "            min_dist = dist\n",
        "            idx = i\n",
        "    return X[idx], Y[idx]"
      ],
      "metadata": {
        "id": "KOcTkhnhe4FR"
      },
      "execution_count": null,
      "outputs": []
    },
    {
      "cell_type": "code",
      "source": [
        "def plot_approximation(gpr, X, X_sample, Y_sample, X_next):\n",
        "    mu, std = gpr.predict(X, return_std=True)\n",
        "    X = transform(X).ravel()\n",
        "    idxs = np.argsort(X)\n",
        "    X = X[idxs]\n",
        "    Y = mu[idxs].reshape(-1)\n",
        "    std = std[idxs]\n",
        "    plt.fill_between(X, Y + 1.96 * std, Y - 1.96 * std, alpha=0.25)\n",
        "    plt.plot(X, Y, 'b-', lw=1, label='Surrogate function')\n",
        "    plt.plot(transform(X_sample).ravel(), Y_sample, 'kx', mew=3, label='Noisy samples')\n",
        "    plt.axvline(x=transform(X_next).ravel(), ls='--', c='k', lw=1)\n",
        "    plt.legend()\n",
        "\n",
        "def plot_acquisition(X, Y, X_next):\n",
        "    X = transform(X).ravel()\n",
        "    idxs = np.argsort(X)\n",
        "    X = X[idxs]\n",
        "    Y = Y[idxs]\n",
        "    plt.plot(X, Y, 'r-', lw=1, label='Acquisition function')\n",
        "    plt.axvline(x=transform(X_next).ravel(), ls='--', c='k', lw=1, label='Next sampling location')\n",
        "    plt.legend()"
      ],
      "metadata": {
        "id": "vLT12tz8kiG1"
      },
      "execution_count": null,
      "outputs": []
    },
    {
      "cell_type": "code",
      "source": [
        "from sklearn.gaussian_process import GaussianProcessRegressor\n",
        "from sklearn.gaussian_process.kernels import ConstantKernel, Matern\n",
        "\n",
        "# Gaussian process with Matérn kernel as surrogate model\n",
        "# Use custom kernel and estimator to match previous example\n",
        "noise = 0.1\n",
        "m52 = ConstantKernel(1.0) * Matern(length_scale=[20.0,20.0,20.0,20.0,20.0,20.0], nu=2.5)\n",
        "gpr = GaussianProcessRegressor(kernel=m52, alpha=noise**2, n_restarts_optimizer=2)\n",
        "\n",
        "# Initialize samples\n",
        "X_sample = X_init\n",
        "Y_sample = Y_init\n",
        "X_grid = X\n",
        "\n",
        "# Number of iterations\n",
        "n_iter = 10\n",
        "\n",
        "max_frequency = []\n",
        "stack_ids = []\n",
        "\n",
        "plt.figure(figsize=(12, n_iter * 3))\n",
        "plt.subplots_adjust(hspace=0.4)\n",
        "\n",
        "for i in range(n_iter):\n",
        "    # Update Gaussian process with existing samples\n",
        "    gpr.fit(X_sample, Y_sample)\n",
        "\n",
        "    # Obtain next sampling point from the acquisition function (expected_improvement)\n",
        "    X_estimate = propose_location(expected_improvement, X_sample, Y_sample, gpr, bounds)\n",
        "    X_next, Y_next = get_closest_stack(X,Y,X_estimate)\n",
        "\n",
        "    mu = gpr.predict(X_grid).reshape(-1)\n",
        "\n",
        "    # Plot samples, surrogate function, noise-free objective and next sampling location\n",
        "    plt.subplot(n_iter, 2, 2 * i + 1)\n",
        "    plot_approximation(gpr, X_grid, X_sample, Y_sample, X_next)\n",
        "    plt.title(f'Iteration {i+1}')\n",
        "\n",
        "    plt.subplot(n_iter, 2, 2 * i + 2)\n",
        "    plot_acquisition(X_grid, expected_improvement(X_grid, X_sample, Y_sample, gpr), X_next)\n",
        "\n",
        "    max_frequency.append(float(np.max(mu)))\n",
        "    stack_ids.append(np.argmax(mu))\n",
        "\n",
        "    # Add sample to previous samples\n",
        "    X_sample = np.vstack((X_sample, X_next))\n",
        "    Y_sample = np.vstack((Y_sample, Y_next))"
      ],
      "metadata": {
        "id": "rCwskMepbgqq"
      },
      "execution_count": null,
      "outputs": []
    },
    {
      "cell_type": "markdown",
      "source": [
        "## Max frequency & corresponding stack value"
      ],
      "metadata": {
        "id": "zrfG0ZlvkVgd"
      }
    },
    {
      "cell_type": "code",
      "source": [
        "for i in range(n_iter):\n",
        "    print(\"Iteration {}: Max frequency -> {}, stack_ value -> {}\".format(i+1,max_frequency[i],X[stack_ids[i]]))"
      ],
      "metadata": {
        "id": "k864LVRP6Yub"
      },
      "execution_count": null,
      "outputs": []
    },
    {
      "cell_type": "code",
      "source": [],
      "metadata": {
        "id": "9jHFxxGojyC9"
      },
      "execution_count": null,
      "outputs": []
    }
  ],
  "metadata": {
    "colab": {
      "provenance": []
    },
    "kernelspec": {
      "display_name": "Python 2",
      "language": "python",
      "name": "python2"
    },
    "language_info": {
      "codemirror_mode": {
        "name": "ipython",
        "version": 2
      },
      "file_extension": ".py",
      "mimetype": "text/x-python",
      "name": "python",
      "nbconvert_exporter": "python",
      "pygments_lexer": "ipython2",
      "version": "2.7.16"
    }
  },
  "nbformat": 4,
  "nbformat_minor": 0
}